{
  "cells": [
    {
      "cell_type": "code",
      "source": [
        "# !unzip \"/content/drive/MyDrive/Colab Notebooks/Deep Learning/dog-breed-identification/dog-breed-identification.zip\" -d \"drive/MyDrive/Colab Notebooks/Deep Learning/dog-breed-identification/dog-breed-data/\""
      ],
      "metadata": {
        "id": "SfBq59EKd7IB"
      },
      "id": "SfBq59EKd7IB",
      "execution_count": 1,
      "outputs": []
    },
    {
      "cell_type": "code",
      "execution_count": 1,
      "id": "9c19e01f-e285-4484-be44-3f229b6917d3",
      "metadata": {
        "id": "9c19e01f-e285-4484-be44-3f229b6917d3"
      },
      "outputs": [],
      "source": [
        "import os\n",
        "import pandas as pd\n",
        "import numpy as np\n",
        "import matplotlib.pyplot as plt\n",
        "import tensorflow as tf\n",
        "import tensorflow_hub as hub\n",
        "import tf_keras\n",
        "from sklearn.model_selection import train_test_split\n",
        "from typing import List, Union"
      ]
    },
    {
      "cell_type": "code",
      "execution_count": 2,
      "id": "308de766-be93-4674-bde9-bbde46ea75aa",
      "metadata": {
        "id": "308de766-be93-4674-bde9-bbde46ea75aa",
        "outputId": "82ae82a1-ca6e-44a7-e45f-da86952bce02",
        "colab": {
          "base_uri": "https://localhost:8080/"
        }
      },
      "outputs": [
        {
          "output_type": "stream",
          "name": "stdout",
          "text": [
            "Tensorflow Verions: 2.18.0\n",
            "Hub version : 0.16.1,\n",
            "GPU : [PhysicalDevice(name='/physical_device:GPU:0', device_type='GPU')]\n"
          ]
        }
      ],
      "source": [
        "print(\"Tensorflow Verions: {}\\nHub version : {},\\nGPU : {}\".format(tf.__version__,hub.__version__,tf.config.list_physical_devices('GPU')))"
      ]
    },
    {
      "cell_type": "code",
      "source": [
        "from google.colab import drive\n",
        "drive.mount('/content/drive')"
      ],
      "metadata": {
        "id": "uZaOOBrsZECI",
        "outputId": "4b3ae711-94d7-42a1-918f-904fcc5bb0ab",
        "colab": {
          "base_uri": "https://localhost:8080/"
        }
      },
      "id": "uZaOOBrsZECI",
      "execution_count": 3,
      "outputs": [
        {
          "output_type": "stream",
          "name": "stdout",
          "text": [
            "Mounted at /content/drive\n"
          ]
        }
      ]
    },
    {
      "cell_type": "markdown",
      "id": "46d8f8bd-de4b-4ec2-a6e1-c80e48dde3b9",
      "metadata": {
        "id": "46d8f8bd-de4b-4ec2-a6e1-c80e48dde3b9"
      },
      "source": [
        "#### Load data"
      ]
    },
    {
      "cell_type": "code",
      "execution_count": 4,
      "id": "772243a9-daeb-4ed3-ad16-6ade12965a99",
      "metadata": {
        "id": "772243a9-daeb-4ed3-ad16-6ade12965a99"
      },
      "outputs": [],
      "source": [
        "def load_dataset_and_map_breed_idx(file_name: str) -> Union[pd.DataFrame, List]:\n",
        "\n",
        "    dataset_df = pd.read_csv(file_name)\n",
        "    unique_breeds = sorted(dataset_df[\"breed\"].unique().tolist())\n",
        "    map_breed_idx = {breed: idx for idx, breed in enumerate(unique_breeds)}\n",
        "    dataset_df[\"breed_idx\"] = dataset_df[\"breed\"].map(map_breed_idx)\n",
        "\n",
        "    return dataset_df, unique_breeds"
      ]
    },
    {
      "cell_type": "code",
      "execution_count": 5,
      "id": "e31504d1-971d-421a-8532-1a775bb381a2",
      "metadata": {
        "id": "e31504d1-971d-421a-8532-1a775bb381a2"
      },
      "outputs": [],
      "source": [
        "common_path = \"drive/MyDrive/Colab Notebooks/Deep Learning/dog-breed-identification/\"\n",
        "labels_path = os.path.join(common_path, \"dog-breed-data/labels.csv\")\n",
        "dataset_df, unique_breeds = load_dataset_and_map_breed_idx(labels_path)"
      ]
    },
    {
      "cell_type": "code",
      "execution_count": 6,
      "id": "bd373adb-a243-4f90-a074-a13ed5dda604",
      "metadata": {
        "id": "bd373adb-a243-4f90-a074-a13ed5dda604"
      },
      "outputs": [],
      "source": [
        "train_df, val_tf = train_test_split(dataset_df, test_size=0.2, stratify=dataset_df[\"breed_idx\"], random_state=42)"
      ]
    },
    {
      "cell_type": "markdown",
      "id": "7208a42f-bc03-4b4d-9134-d404295c2712",
      "metadata": {
        "id": "7208a42f-bc03-4b4d-9134-d404295c2712"
      },
      "source": [
        "#### Create tensordata"
      ]
    },
    {
      "cell_type": "code",
      "execution_count": 7,
      "id": "9fa1a5fd-30bb-4ff8-9d93-b6992fc86a66",
      "metadata": {
        "id": "9fa1a5fd-30bb-4ff8-9d93-b6992fc86a66"
      },
      "outputs": [],
      "source": [
        "def create_tensor_slices(dataset: pd.DataFrame) -> tf.data.Dataset:\n",
        "    image_path_hash = dataset[\"id\"].values\n",
        "    breed_idx = dataset[\"breed_idx\"].values\n",
        "\n",
        "    return tf.data.Dataset.from_tensor_slices((image_path_hash, breed_idx))"
      ]
    },
    {
      "cell_type": "code",
      "execution_count": 8,
      "id": "ed450f36-4218-428c-bae0-20032d09ec05",
      "metadata": {
        "id": "ed450f36-4218-428c-bae0-20032d09ec05"
      },
      "outputs": [],
      "source": [
        "os.environ['TF_CPP_MIN_LOG_LEVEL'] = '2'\n",
        "\n",
        "train_tensor_data = create_tensor_slices(train_df)  # Raw data is filled\n",
        "val_tensor_data = create_tensor_slices(val_tf)"
      ]
    },
    {
      "cell_type": "markdown",
      "id": "cbd9e71f-027c-4f62-afa0-6e2ed502b47d",
      "metadata": {
        "id": "cbd9e71f-027c-4f62-afa0-6e2ed502b47d"
      },
      "source": [
        "#### Fill tensordata with images"
      ]
    },
    {
      "cell_type": "code",
      "execution_count": 9,
      "id": "23388d51-83bf-47e4-b8dc-30206688e335",
      "metadata": {
        "id": "23388d51-83bf-47e4-b8dc-30206688e335"
      },
      "outputs": [],
      "source": [
        "image_folder_path = os.path.join(common_path, \"dog-breed-data/train\")\n",
        "IMAGE_FOLDER = image_folder_path\n",
        "IMAGE_SIZE = (224, 224)\n",
        "\n",
        "def load_image_in_tensor(image_id:str, label:str):\n",
        "    image_path = tf.strings.join([IMAGE_FOLDER, \"/\", image_id, \".jpg\"])\n",
        "    image = tf.io.read_file(image_path)\n",
        "    image = tf.image.decode_jpeg(image, channels=3)\n",
        "    image = tf.image.resize(image, IMAGE_SIZE)\n",
        "    image = image / 255.0\n",
        "\n",
        "    return image, label"
      ]
    },
    {
      "cell_type": "code",
      "execution_count": 10,
      "id": "18d261ca-1a13-406d-82bb-edd7e91d7e6f",
      "metadata": {
        "id": "18d261ca-1a13-406d-82bb-edd7e91d7e6f"
      },
      "outputs": [],
      "source": [
        "train_tensor_data = train_tensor_data.map(load_image_in_tensor, num_parallel_calls=tf.data.AUTOTUNE)  # Actual images are loaded\n",
        "val_tensor_data = val_tensor_data.map(load_image_in_tensor, num_parallel_calls=tf.data.AUTOTUNE)"
      ]
    },
    {
      "cell_type": "markdown",
      "id": "9c5c6d2b-b242-48db-9eaa-a5ef361d00c7",
      "metadata": {
        "id": "9c5c6d2b-b242-48db-9eaa-a5ef361d00c7"
      },
      "source": [
        "#### Shuffle and batch the data"
      ]
    },
    {
      "cell_type": "code",
      "execution_count": 11,
      "id": "619c19a3-7053-4632-a926-cefb1b8940a9",
      "metadata": {
        "id": "619c19a3-7053-4632-a926-cefb1b8940a9"
      },
      "outputs": [],
      "source": [
        "BATCH_SIZE = 32\n",
        "\n",
        "train_tensor_data = train_tensor_data.shuffle(buffer_size=1000)\n",
        "val_tensor_data = val_tensor_data.shuffle(buffer_size=1000)\n",
        "train_tensor_data = train_tensor_data.batch(BATCH_SIZE).prefetch(tf.data.AUTOTUNE)\n",
        "val_tensor_data = val_tensor_data.batch(BATCH_SIZE).prefetch(tf.data.AUTOTUNE)"
      ]
    },
    {
      "cell_type": "markdown",
      "id": "71e57590-378b-4744-8245-a3c6015e0f4f",
      "metadata": {
        "id": "71e57590-378b-4744-8245-a3c6015e0f4f"
      },
      "source": [
        "#### Create model"
      ]
    },
    {
      "cell_type": "code",
      "execution_count": 12,
      "id": "b8c47ef7-82b1-469f-bda9-0706cdff105b",
      "metadata": {
        "id": "b8c47ef7-82b1-469f-bda9-0706cdff105b"
      },
      "outputs": [],
      "source": [
        "MODEL_URL = \"https://tfhub.dev/google/imagenet/mobilenet_v2_100_224/classification/4\"\n",
        "\n",
        "def create_model(MODEL_URL: str, units: int):\n",
        "    feature_extractor_layer = hub.KerasLayer(MODEL_URL, input_shape=(224, 224, 3), trainable=False)  # freeze weights\n",
        "    model = tf_keras.Sequential([feature_extractor_layer, tf_keras.layers.Dense(units=units, activation=\"softmax\")])\n",
        "    model.compile(optimizer=\"adam\", loss=\"sparse_categorical_crossentropy\", metrics=[\"accuracy\"])\n",
        "\n",
        "    return model"
      ]
    },
    {
      "cell_type": "code",
      "execution_count": 13,
      "id": "44b75aed-7fdf-4670-9756-9f8b35aa3c09",
      "metadata": {
        "id": "44b75aed-7fdf-4670-9756-9f8b35aa3c09"
      },
      "outputs": [],
      "source": [
        "model = create_model(MODEL_URL=MODEL_URL, units=len(unique_breeds))"
      ]
    },
    {
      "cell_type": "markdown",
      "id": "29d4dc4c-bb68-462c-907f-8b5204f20bf2",
      "metadata": {
        "id": "29d4dc4c-bb68-462c-907f-8b5204f20bf2"
      },
      "source": [
        "#### Load the model with train and validation data"
      ]
    },
    {
      "cell_type": "code",
      "execution_count": 14,
      "id": "169cb009-88dd-4f01-8462-8b3413c7313d",
      "metadata": {
        "id": "169cb009-88dd-4f01-8462-8b3413c7313d",
        "outputId": "95c453ca-9024-464d-a859-f7df2bab35d9",
        "colab": {
          "base_uri": "https://localhost:8080/"
        }
      },
      "outputs": [
        {
          "output_type": "stream",
          "name": "stdout",
          "text": [
            "Epoch 1/10\n",
            "256/256 [==============================] - 352s 1s/step - loss: 1.4201 - accuracy: 0.6523 - val_loss: 0.7140 - val_accuracy: 0.7848\n",
            "Epoch 2/10\n",
            "256/256 [==============================] - 14s 51ms/step - loss: 0.3797 - accuracy: 0.8901 - val_loss: 0.6556 - val_accuracy: 0.7995\n",
            "Epoch 3/10\n",
            "256/256 [==============================] - 14s 50ms/step - loss: 0.2121 - accuracy: 0.9463 - val_loss: 0.6597 - val_accuracy: 0.7961\n",
            "Epoch 4/10\n",
            "256/256 [==============================] - 14s 51ms/step - loss: 0.1287 - accuracy: 0.9762 - val_loss: 0.6651 - val_accuracy: 0.7956\n",
            "Epoch 5/10\n",
            "256/256 [==============================] - 14s 51ms/step - loss: 0.0873 - accuracy: 0.9864 - val_loss: 0.6742 - val_accuracy: 0.8029\n",
            "Epoch 6/10\n",
            "256/256 [==============================] - 14s 51ms/step - loss: 0.0603 - accuracy: 0.9944 - val_loss: 0.6860 - val_accuracy: 0.7966\n",
            "Epoch 7/10\n",
            "256/256 [==============================] - 14s 51ms/step - loss: 0.0464 - accuracy: 0.9963 - val_loss: 0.6928 - val_accuracy: 0.7985\n",
            "Epoch 8/10\n",
            "256/256 [==============================] - 14s 51ms/step - loss: 0.0364 - accuracy: 0.9980 - val_loss: 0.7040 - val_accuracy: 0.7971\n",
            "Epoch 9/10\n",
            "256/256 [==============================] - 14s 51ms/step - loss: 0.0293 - accuracy: 0.9989 - val_loss: 0.7180 - val_accuracy: 0.8000\n",
            "Epoch 10/10\n",
            "256/256 [==============================] - 14s 51ms/step - loss: 0.0239 - accuracy: 0.9989 - val_loss: 0.7305 - val_accuracy: 0.8010\n"
          ]
        }
      ],
      "source": [
        "trained_model = model.fit(train_tensor_data, validation_data=val_tensor_data, epochs=10)"
      ]
    },
    {
      "cell_type": "code",
      "execution_count": 15,
      "id": "61f6d4cb-282f-4b84-9b55-bc709097b21b",
      "metadata": {
        "id": "61f6d4cb-282f-4b84-9b55-bc709097b21b"
      },
      "outputs": [],
      "source": [
        "def plot_acurracy(stats):\n",
        "    epochs = range(1, len(stats['loss']) + 1)\n",
        "\n",
        "\n",
        "    plt.figure(figsize=(12, 5))\n",
        "\n",
        "    plt.subplot(1, 2, 1)\n",
        "    plt.plot(epochs, stats[\"accuracy\"], label = \"Train accuracy\")\n",
        "    plt.plot(epochs, stats[\"val_accuracy\"], label = \"Val accuracy\")\n",
        "    plt.legend(loc='upper right')\n",
        "    plt.title('Accuracy')\n",
        "\n",
        "    plt.subplot(1, 2, 2)\n",
        "    plt.plot(epochs, stats[\"loss\"], label = \"Train Loss\")\n",
        "    plt.plot(epochs, stats[\"val_loss\"], label = \"Val Loss\")\n",
        "    plt.legend(loc='upper right')\n",
        "    plt.title('Loss')\n",
        "\n",
        "    plt.show()\n"
      ]
    },
    {
      "cell_type": "code",
      "execution_count": 16,
      "id": "93846905-daa4-46a6-8205-46aa71e41279",
      "metadata": {
        "id": "93846905-daa4-46a6-8205-46aa71e41279",
        "outputId": "1501dcd0-d23e-40da-b7e3-964caa313d38",
        "colab": {
          "base_uri": "https://localhost:8080/",
          "height": 468
        }
      },
      "outputs": [
        {
          "output_type": "display_data",
          "data": {
            "text/plain": [
              "<Figure size 1200x500 with 2 Axes>"
            ],
            "image/png": "[encoded data removed]"
          },
          "metadata": {}
        }
      ],
      "source": [
        "plot_acurracy(trained_model.history)"
      ]
    },
    {
      "cell_type": "markdown",
      "id": "8824b36c-1ce1-4154-a0f5-e9832f089ad8",
      "metadata": {
        "id": "8824b36c-1ce1-4154-a0f5-e9832f089ad8"
      },
      "source": [
        "#### Save the model"
      ]
    },
    {
      "cell_type": "code",
      "execution_count": 17,
      "id": "a242bc2a-5955-4a22-8ae1-75bf9fc69d18",
      "metadata": {
        "id": "a242bc2a-5955-4a22-8ae1-75bf9fc69d18"
      },
      "outputs": [],
      "source": [
        "model_save_path = os.path.join(common_path, \"models/dog_breed_identification2.keras\")\n",
        "model.save(model_save_path)"
      ]
    },
    {
      "cell_type": "code",
      "execution_count": 18,
      "id": "f58e3dd0-52ae-4733-8e52-846592470418",
      "metadata": {
        "id": "f58e3dd0-52ae-4733-8e52-846592470418"
      },
      "outputs": [],
      "source": [
        "loaded_model = tf_keras.models.load_model(model_save_path,custom_objects={\"KerasLayer\": hub.KerasLayer})"
      ]
    },
    {
      "cell_type": "code",
      "execution_count": 19,
      "id": "c7c74ac4-76eb-488e-809e-029ed1e6ebc7",
      "metadata": {
        "id": "c7c74ac4-76eb-488e-809e-029ed1e6ebc7"
      },
      "outputs": [],
      "source": [
        "def preprocess_prediction_image(image_path):\n",
        "    image = tf.io.read_file(image_path)\n",
        "    image = tf.image.decode_jpeg(image, channels=3)\n",
        "    image = tf.image.resize(image, IMAGE_SIZE)\n",
        "    image = image / 255.0\n",
        "    image = tf.expand_dims(image, axis=0)\n",
        "    return image\n",
        "\n",
        "\n",
        "def predict_dog_breed(image_path):\n",
        "    processed_image = preprocess_prediction_image(image_path)\n",
        "    predictions = loaded_model.predict(processed_image)\n",
        "    predictions = predictions[0]\n",
        "\n",
        "    predictions_idx = np.argsort(predictions)\n",
        "\n",
        "    top_5_idx = predictions_idx[-5:][::-1] # Select last 5 predicts and sort by desc\n",
        "    top_5_breeds = [ unique_breeds[i] for i in top_5_idx ]\n",
        "\n",
        "    top_5_scores = predictions[top_5_idx]\n",
        "    top_5_scores = [f\"{i * 100:.2f}%\"  for i in top_5_scores ]\n",
        "\n",
        "\n",
        "    final_predictions = pd.DataFrame({\"breed\":top_5_breeds,\"score\":top_5_scores})\n",
        "\n",
        "\n",
        "    return final_predictions\n"
      ]
    },
    {
      "cell_type": "code",
      "execution_count": 21,
      "id": "7faba648-c0a5-496f-a2be-10a78eff1794",
      "metadata": {
        "id": "7faba648-c0a5-496f-a2be-10a78eff1794",
        "outputId": "e5fb9667-d3aa-4575-b750-79b7e3607239",
        "colab": {
          "base_uri": "https://localhost:8080/"
        }
      },
      "outputs": [
        {
          "output_type": "stream",
          "name": "stdout",
          "text": [
            "1/1 [==============================] - 1s 657ms/step\n"
          ]
        }
      ],
      "source": [
        "to_be_predicted_image_path = os.path.join(common_path, \"dog-breed-data/test/8e6a11df866b85cfb0f921b7947ae77d.jpg\")\n",
        "\n",
        "my_predictions = predict_dog_breed(to_be_predicted_image_path)"
      ]
    },
    {
      "cell_type": "code",
      "execution_count": 22,
      "id": "ddbf282d-05e7-4c47-ad2b-fb9b055ccc75",
      "metadata": {
        "id": "ddbf282d-05e7-4c47-ad2b-fb9b055ccc75",
        "outputId": "23bc40c7-5160-47dc-eee6-110e3af89948",
        "colab": {
          "base_uri": "https://localhost:8080/",
          "height": 206
        }
      },
      "outputs": [
        {
          "output_type": "execute_result",
          "data": {
            "text/plain": [
              "                     breed   score\n",
              "0         english_foxhound  81.49%\n",
              "1             walker_hound   9.12%\n",
              "2         brittany_spaniel   6.21%\n",
              "3  wire-haired_fox_terrier   2.88%\n",
              "4              toy_terrier   0.11%"
            ],
            "text/html": [
              "\n",
              "  <div id=\"df-b52fa0c7-c268-48d9-985b-72b0655f3b05\" class=\"colab-df-container\">\n",
              "    <div>\n",
              "<style scoped>\n",
              "    .dataframe tbody tr th:only-of-type {\n",
              "        vertical-align: middle;\n",
              "    }\n",
              "\n",
              "    .dataframe tbody tr th {\n",
              "        vertical-align: top;\n",
              "    }\n",
              "\n",
              "    .dataframe thead th {\n",
              "        text-align: right;\n",
              "    }\n",
              "</style>\n",
              "<table border=\"1\" class=\"dataframe\">\n",
              "  <thead>\n",
              "    <tr style=\"text-align: right;\">\n",
              "      <th></th>\n",
              "      <th>breed</th>\n",
              "      <th>score</th>\n",
              "    </tr>\n",
              "  </thead>\n",
              "  <tbody>\n",
              "    <tr>\n",
              "      <th>0</th>\n",
              "      <td>english_foxhound</td>\n",
              "      <td>81.49%</td>\n",
              "    </tr>\n",
              "    <tr>\n",
              "      <th>1</th>\n",
              "      <td>walker_hound</td>\n",
              "      <td>9.12%</td>\n",
              "    </tr>\n",
              "    <tr>\n",
              "      <th>2</th>\n",
              "      <td>brittany_spaniel</td>\n",
              "      <td>6.21%</td>\n",
              "    </tr>\n",
              "    <tr>\n",
              "      <th>3</th>\n",
              "      <td>wire-haired_fox_terrier</td>\n",
              "      <td>2.88%</td>\n",
              "    </tr>\n",
              "    <tr>\n",
              "      <th>4</th>\n",
              "      <td>toy_terrier</td>\n",
              "      <td>0.11%</td>\n",
              "    </tr>\n",
              "  </tbody>\n",
              "</table>\n",
              "</div>\n",
              "    <div class=\"colab-df-buttons\">\n",
              "\n",
              "  <div class=\"colab-df-container\">\n",
              "    <button class=\"colab-df-convert\" onclick=\"convertToInteractive('df-b52fa0c7-c268-48d9-985b-72b0655f3b05')\"\n",
              "            title=\"Convert this dataframe to an interactive table.\"\n",
              "            style=\"display:none;\">\n",
              "\n",
              "  <svg xmlns=\"http://www.w3.org/2000/svg\" height=\"24px\" viewBox=\"0 -960 960 960\">\n",
              "    <path d=\"M120-120v-720h720v720H120Zm60-500h600v-160H180v160Zm220 220h160v-160H400v160Zm0 220h160v-160H400v160ZM180-400h160v-160H180v160Zm440 0h160v-160H620v160ZM180-180h160v-160H180v160Zm440 0h160v-160H620v160Z\"/>\n",
              "  </svg>\n",
              "    </button>\n",
              "\n",
              "  <style>\n",
              "    .colab-df-container {\n",
              "      display:flex;\n",
              "      gap: 12px;\n",
              "    }\n",
              "\n",
              "    .colab-df-convert {\n",
              "      background-color: #E8F0FE;\n",
              "      border: none;\n",
              "      border-radius: 50%;\n",
              "      cursor: pointer;\n",
              "      display: none;\n",
              "      fill: #1967D2;\n",
              "      height: 32px;\n",
              "      padding: 0 0 0 0;\n",
              "      width: 32px;\n",
              "    }\n",
              "\n",
              "    .colab-df-convert:hover {\n",
              "      background-color: #E2EBFA;\n",
              "      box-shadow: 0px 1px 2px rgba(60, 64, 67, 0.3), 0px 1px 3px 1px rgba(60, 64, 67, 0.15);\n",
              "      fill: #174EA6;\n",
              "    }\n",
              "\n",
              "    .colab-df-buttons div {\n",
              "      margin-bottom: 4px;\n",
              "    }\n",
              "\n",
              "    [theme=dark] .colab-df-convert {\n",
              "      background-color: #3B4455;\n",
              "      fill: #D2E3FC;\n",
              "    }\n",
              "\n",
              "    [theme=dark] .colab-df-convert:hover {\n",
              "      background-color: #434B5C;\n",
              "      box-shadow: 0px 1px 3px 1px rgba(0, 0, 0, 0.15);\n",
              "      filter: drop-shadow(0px 1px 2px rgba(0, 0, 0, 0.3));\n",
              "      fill: #FFFFFF;\n",
              "    }\n",
              "  </style>\n",
              "\n",
              "    <script>\n",
              "      const buttonEl =\n",
              "        document.querySelector('#df-b52fa0c7-c268-48d9-985b-72b0655f3b05 button.colab-df-convert');\n",
              "      buttonEl.style.display =\n",
              "        google.colab.kernel.accessAllowed ? 'block' : 'none';\n",
              "\n",
              "      async function convertToInteractive(key) {\n",
              "        const element = document.querySelector('#df-b52fa0c7-c268-48d9-985b-72b0655f3b05');\n",
              "        const dataTable =\n",
              "          await google.colab.kernel.invokeFunction('convertToInteractive',\n",
              "                                                    [key], {});\n",
              "        if (!dataTable) return;\n",
              "\n",
              "        const docLinkHtml = 'Like what you see? Visit the ' +\n",
              "          '<a target=\"_blank\" href=https://colab.research.google.com/notebooks/data_table.ipynb>data table notebook</a>'\n",
              "          + ' to learn more about interactive tables.';\n",
              "        element.innerHTML = '';\n",
              "        dataTable['output_type'] = 'display_data';\n",
              "        await google.colab.output.renderOutput(dataTable, element);\n",
              "        const docLink = document.createElement('div');\n",
              "        docLink.innerHTML = docLinkHtml;\n",
              "        element.appendChild(docLink);\n",
              "      }\n",
              "    </script>\n",
              "  </div>\n",
              "\n",
              "\n",
              "    <div id=\"df-e4793b75-59bc-467b-bea1-14fb6deb1a10\">\n",
              "      <button class=\"colab-df-quickchart\" onclick=\"quickchart('df-e4793b75-59bc-467b-bea1-14fb6deb1a10')\"\n",
              "                title=\"Suggest charts\"\n",
              "                style=\"display:none;\">\n",
              "\n",
              "<svg xmlns=\"http://www.w3.org/2000/svg\" height=\"24px\"viewBox=\"0 0 24 24\"\n",
              "     width=\"24px\">\n",
              "    <g>\n",
              "        <path d=\"M19 3H5c-1.1 0-2 .9-2 2v14c0 1.1.9 2 2 2h14c1.1 0 2-.9 2-2V5c0-1.1-.9-2-2-2zM9 17H7v-7h2v7zm4 0h-2V7h2v10zm4 0h-2v-4h2v4z\"/>\n",
              "    </g>\n",
              "</svg>\n",
              "      </button>\n",
              "\n",
              "<style>\n",
              "  .colab-df-quickchart {\n",
              "      --bg-color: #E8F0FE;\n",
              "      --fill-color: #1967D2;\n",
              "      --hover-bg-color: #E2EBFA;\n",
              "      --hover-fill-color: #174EA6;\n",
              "      --disabled-fill-color: #AAA;\n",
              "      --disabled-bg-color: #DDD;\n",
              "  }\n",
              "\n",
              "  [theme=dark] .colab-df-quickchart {\n",
              "      --bg-color: #3B4455;\n",
              "      --fill-color: #D2E3FC;\n",
              "      --hover-bg-color: #434B5C;\n",
              "      --hover-fill-color: #FFFFFF;\n",
              "      --disabled-bg-color: #3B4455;\n",
              "      --disabled-fill-color: #666;\n",
              "  }\n",
              "\n",
              "  .colab-df-quickchart {\n",
              "    background-color: var(--bg-color);\n",
              "    border: none;\n",
              "    border-radius: 50%;\n",
              "    cursor: pointer;\n",
              "    display: none;\n",
              "    fill: var(--fill-color);\n",
              "    height: 32px;\n",
              "    padding: 0;\n",
              "    width: 32px;\n",
              "  }\n",
              "\n",
              "  .colab-df-quickchart:hover {\n",
              "    background-color: var(--hover-bg-color);\n",
              "    box-shadow: 0 1px 2px rgba(60, 64, 67, 0.3), 0 1px 3px 1px rgba(60, 64, 67, 0.15);\n",
              "    fill: var(--button-hover-fill-color);\n",
              "  }\n",
              "\n",
              "  .colab-df-quickchart-complete:disabled,\n",
              "  .colab-df-quickchart-complete:disabled:hover {\n",
              "    background-color: var(--disabled-bg-color);\n",
              "    fill: var(--disabled-fill-color);\n",
              "    box-shadow: none;\n",
              "  }\n",
              "\n",
              "  .colab-df-spinner {\n",
              "    border: 2px solid var(--fill-color);\n",
              "    border-color: transparent;\n",
              "    border-bottom-color: var(--fill-color);\n",
              "    animation:\n",
              "      spin 1s steps(1) infinite;\n",
              "  }\n",
              "\n",
              "  @keyframes spin {\n",
              "    0% {\n",
              "      border-color: transparent;\n",
              "      border-bottom-color: var(--fill-color);\n",
              "      border-left-color: var(--fill-color);\n",
              "    }\n",
              "    20% {\n",
              "      border-color: transparent;\n",
              "      border-left-color: var(--fill-color);\n",
              "      border-top-color: var(--fill-color);\n",
              "    }\n",
              "    30% {\n",
              "      border-color: transparent;\n",
              "      border-left-color: var(--fill-color);\n",
              "      border-top-color: var(--fill-color);\n",
              "      border-right-color: var(--fill-color);\n",
              "    }\n",
              "    40% {\n",
              "      border-color: transparent;\n",
              "      border-right-color: var(--fill-color);\n",
              "      border-top-color: var(--fill-color);\n",
              "    }\n",
              "    60% {\n",
              "      border-color: transparent;\n",
              "      border-right-color: var(--fill-color);\n",
              "    }\n",
              "    80% {\n",
              "      border-color: transparent;\n",
              "      border-right-color: var(--fill-color);\n",
              "      border-bottom-color: var(--fill-color);\n",
              "    }\n",
              "    90% {\n",
              "      border-color: transparent;\n",
              "      border-bottom-color: var(--fill-color);\n",
              "    }\n",
              "  }\n",
              "</style>\n",
              "\n",
              "      <script>\n",
              "        async function quickchart(key) {\n",
              "          const quickchartButtonEl =\n",
              "            document.querySelector('#' + key + ' button');\n",
              "          quickchartButtonEl.disabled = true;  // To prevent multiple clicks.\n",
              "          quickchartButtonEl.classList.add('colab-df-spinner');\n",
              "          try {\n",
              "            const charts = await google.colab.kernel.invokeFunction(\n",
              "                'suggestCharts', [key], {});\n",
              "          } catch (error) {\n",
              "            console.error('Error during call to suggestCharts:', error);\n",
              "          }\n",
              "          quickchartButtonEl.classList.remove('colab-df-spinner');\n",
              "          quickchartButtonEl.classList.add('colab-df-quickchart-complete');\n",
              "        }\n",
              "        (() => {\n",
              "          let quickchartButtonEl =\n",
              "            document.querySelector('#df-e4793b75-59bc-467b-bea1-14fb6deb1a10 button');\n",
              "          quickchartButtonEl.style.display =\n",
              "            google.colab.kernel.accessAllowed ? 'block' : 'none';\n",
              "        })();\n",
              "      </script>\n",
              "    </div>\n",
              "\n",
              "  <div id=\"id_6e23feff-5178-4ec6-a373-3e51723cc843\">\n",
              "    <style>\n",
              "      .colab-df-generate {\n",
              "        background-color: #E8F0FE;\n",
              "        border: none;\n",
              "        border-radius: 50%;\n",
              "        cursor: pointer;\n",
              "        display: none;\n",
              "        fill: #1967D2;\n",
              "        height: 32px;\n",
              "        padding: 0 0 0 0;\n",
              "        width: 32px;\n",
              "      }\n",
              "\n",
              "      .colab-df-generate:hover {\n",
              "        background-color: #E2EBFA;\n",
              "        box-shadow: 0px 1px 2px rgba(60, 64, 67, 0.3), 0px 1px 3px 1px rgba(60, 64, 67, 0.15);\n",
              "        fill: #174EA6;\n",
              "      }\n",
              "\n",
              "      [theme=dark] .colab-df-generate {\n",
              "        background-color: #3B4455;\n",
              "        fill: #D2E3FC;\n",
              "      }\n",
              "\n",
              "      [theme=dark] .colab-df-generate:hover {\n",
              "        background-color: #434B5C;\n",
              "        box-shadow: 0px 1px 3px 1px rgba(0, 0, 0, 0.15);\n",
              "        filter: drop-shadow(0px 1px 2px rgba(0, 0, 0, 0.3));\n",
              "        fill: #FFFFFF;\n",
              "      }\n",
              "    </style>\n",
              "    <button class=\"colab-df-generate\" onclick=\"generateWithVariable('my_predictions')\"\n",
              "            title=\"Generate code using this dataframe.\"\n",
              "            style=\"display:none;\">\n",
              "\n",
              "  <svg xmlns=\"http://www.w3.org/2000/svg\" height=\"24px\"viewBox=\"0 0 24 24\"\n",
              "       width=\"24px\">\n",
              "    <path d=\"M7,19H8.4L18.45,9,17,7.55,7,17.6ZM5,21V16.75L18.45,3.32a2,2,0,0,1,2.83,0l1.4,1.43a1.91,1.91,0,0,1,.58,1.4,1.91,1.91,0,0,1-.58,1.4L9.25,21ZM18.45,9,17,7.55Zm-12,3A5.31,5.31,0,0,0,4.9,8.1,5.31,5.31,0,0,0,1,6.5,5.31,5.31,0,0,0,4.9,4.9,5.31,5.31,0,0,0,6.5,1,5.31,5.31,0,0,0,8.1,4.9,5.31,5.31,0,0,0,12,6.5,5.46,5.46,0,0,0,6.5,12Z\"/>\n",
              "  </svg>\n",
              "    </button>\n",
              "    <script>\n",
              "      (() => {\n",
              "      const buttonEl =\n",
              "        document.querySelector('#id_6e23feff-5178-4ec6-a373-3e51723cc843 button.colab-df-generate');\n",
              "      buttonEl.style.display =\n",
              "        google.colab.kernel.accessAllowed ? 'block' : 'none';\n",
              "\n",
              "      buttonEl.onclick = () => {\n",
              "        google.colab.notebook.generateWithVariable('my_predictions');\n",
              "      }\n",
              "      })();\n",
              "    </script>\n",
              "  </div>\n",
              "\n",
              "    </div>\n",
              "  </div>\n"
            ],
            "application/vnd.google.colaboratory.intrinsic+json": {
              "type": "dataframe",
              "variable_name": "my_predictions",
              "summary": "{\n  \"name\": \"my_predictions\",\n  \"rows\": 5,\n  \"fields\": [\n    {\n      \"column\": \"breed\",\n      \"properties\": {\n        \"dtype\": \"string\",\n        \"num_unique_values\": 5,\n        \"samples\": [\n          \"walker_hound\",\n          \"toy_terrier\",\n          \"brittany_spaniel\"\n        ],\n        \"semantic_type\": \"\",\n        \"description\": \"\"\n      }\n    },\n    {\n      \"column\": \"score\",\n      \"properties\": {\n        \"dtype\": \"string\",\n        \"num_unique_values\": 5,\n        \"samples\": [\n          \"9.12%\",\n          \"0.11%\",\n          \"6.21%\"\n        ],\n        \"semantic_type\": \"\",\n        \"description\": \"\"\n      }\n    }\n  ]\n}"
            }
          },
          "metadata": {},
          "execution_count": 22
        }
      ],
      "source": [
        "my_predictions"
      ]
    },
    {
      "cell_type": "code",
      "execution_count": null,
      "id": "54fa3b18-d88e-4ad5-83b5-39f84fe66c25",
      "metadata": {
        "id": "54fa3b18-d88e-4ad5-83b5-39f84fe66c25"
      },
      "outputs": [],
      "source": []
    }
  ],
  "metadata": {
    "kernelspec": {
      "display_name": "Python 3",
      "name": "python3"
    },
    "language_info": {
      "codemirror_mode": {
        "name": "ipython",
        "version": 3
      },
      "file_extension": ".py",
      "mimetype": "text/x-python",
      "name": "python",
      "nbconvert_exporter": "python",
      "pygments_lexer": "ipython3",
      "version": "3.9.21"
    },
    "colab": {
      "provenance": [],
      "gpuType": "L4",
      "machine_shape": "hm"
    },
    "accelerator": "GPU"
  },
  "nbformat": 4,
  "nbformat_minor": 5
}