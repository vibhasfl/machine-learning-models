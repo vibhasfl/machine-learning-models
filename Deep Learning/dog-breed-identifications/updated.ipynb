{
 "cells": [
  {
   "cell_type": "code",
   "execution_count": 89,
   "id": "6a747467-bfb8-40ac-bf64-fba7a2f492a9",
   "metadata": {},
   "outputs": [],
   "source": [
    "import os\n",
    "import pandas as pd\n",
    "import numpy as np\n",
    "import tensorflow as tf\n",
    "import matplotlib.pyplot as plt\n",
    "import tensorflow_hub as hub\n",
    "from tensorflow.keras import layers, models\n",
    "import tf_keras\n",
    "from sklearn.model_selection import train_test_split"
   ]
  },
  {
   "cell_type": "code",
   "execution_count": 81,
   "id": "295af6cb-532b-4501-a0ab-f7e9ed6db0d1",
   "metadata": {},
   "outputs": [
    {
     "data": {
      "text/html": [
       "<div>\n",
       "<style scoped>\n",
       "    .dataframe tbody tr th:only-of-type {\n",
       "        vertical-align: middle;\n",
       "    }\n",
       "\n",
       "    .dataframe tbody tr th {\n",
       "        vertical-align: top;\n",
       "    }\n",
       "\n",
       "    .dataframe thead th {\n",
       "        text-align: right;\n",
       "    }\n",
       "</style>\n",
       "<table border=\"1\" class=\"dataframe\">\n",
       "  <thead>\n",
       "    <tr style=\"text-align: right;\">\n",
       "      <th></th>\n",
       "      <th>id</th>\n",
       "      <th>breed</th>\n",
       "    </tr>\n",
       "  </thead>\n",
       "  <tbody>\n",
       "    <tr>\n",
       "      <th>0</th>\n",
       "      <td>000bec180eb18c7604dcecc8fe0dba07</td>\n",
       "      <td>boston_bull</td>\n",
       "    </tr>\n",
       "    <tr>\n",
       "      <th>1</th>\n",
       "      <td>001513dfcb2ffafc82cccf4d8bbaba97</td>\n",
       "      <td>dingo</td>\n",
       "    </tr>\n",
       "    <tr>\n",
       "      <th>2</th>\n",
       "      <td>001cdf01b096e06d78e9e5112d419397</td>\n",
       "      <td>pekinese</td>\n",
       "    </tr>\n",
       "    <tr>\n",
       "      <th>3</th>\n",
       "      <td>00214f311d5d2247d5dfe4fe24b2303d</td>\n",
       "      <td>bluetick</td>\n",
       "    </tr>\n",
       "    <tr>\n",
       "      <th>4</th>\n",
       "      <td>0021f9ceb3235effd7fcde7f7538ed62</td>\n",
       "      <td>golden_retriever</td>\n",
       "    </tr>\n",
       "    <tr>\n",
       "      <th>5</th>\n",
       "      <td>002211c81b498ef88e1b40b9abf84e1d</td>\n",
       "      <td>bedlington_terrier</td>\n",
       "    </tr>\n",
       "    <tr>\n",
       "      <th>6</th>\n",
       "      <td>00290d3e1fdd27226ba27a8ce248ce85</td>\n",
       "      <td>bedlington_terrier</td>\n",
       "    </tr>\n",
       "    <tr>\n",
       "      <th>7</th>\n",
       "      <td>002a283a315af96eaea0e28e7163b21b</td>\n",
       "      <td>borzoi</td>\n",
       "    </tr>\n",
       "    <tr>\n",
       "      <th>8</th>\n",
       "      <td>003df8b8a8b05244b1d920bb6cf451f9</td>\n",
       "      <td>basenji</td>\n",
       "    </tr>\n",
       "    <tr>\n",
       "      <th>9</th>\n",
       "      <td>0042188c895a2f14ef64a918ed9c7b64</td>\n",
       "      <td>scottish_deerhound</td>\n",
       "    </tr>\n",
       "  </tbody>\n",
       "</table>\n",
       "</div>"
      ],
      "text/plain": [
       "                                 id               breed\n",
       "0  000bec180eb18c7604dcecc8fe0dba07         boston_bull\n",
       "1  001513dfcb2ffafc82cccf4d8bbaba97               dingo\n",
       "2  001cdf01b096e06d78e9e5112d419397            pekinese\n",
       "3  00214f311d5d2247d5dfe4fe24b2303d            bluetick\n",
       "4  0021f9ceb3235effd7fcde7f7538ed62    golden_retriever\n",
       "5  002211c81b498ef88e1b40b9abf84e1d  bedlington_terrier\n",
       "6  00290d3e1fdd27226ba27a8ce248ce85  bedlington_terrier\n",
       "7  002a283a315af96eaea0e28e7163b21b              borzoi\n",
       "8  003df8b8a8b05244b1d920bb6cf451f9             basenji\n",
       "9  0042188c895a2f14ef64a918ed9c7b64  scottish_deerhound"
      ]
     },
     "execution_count": 81,
     "metadata": {},
     "output_type": "execute_result"
    }
   ],
   "source": [
    "labels_csv_df = pd.read_csv(\"dog-breed-data/labels.csv\")\n",
    "labels_csv_df.head(10)"
   ]
  },
  {
   "cell_type": "code",
   "execution_count": 45,
   "id": "8a8cedbe-ed0d-4e96-9a38-951f437df35b",
   "metadata": {},
   "outputs": [],
   "source": [
    "unique_breeds = sorted(labels_csv_df[\"breed\"].unique().tolist())"
   ]
  },
  {
   "cell_type": "code",
   "execution_count": 47,
   "id": "d0a3fb23-d526-405a-bf88-d7038eb30e4d",
   "metadata": {},
   "outputs": [],
   "source": [
    "labels_csv_df[\"breed_index\"] = labels_csv_df[\"breed\"].map({breed: idx for idx, breed in enumerate(unique_breeds)})"
   ]
  },
  {
   "cell_type": "code",
   "execution_count": 51,
   "id": "13b9f1f0-b4bc-4891-970b-5b3e66f1d218",
   "metadata": {},
   "outputs": [
    {
     "data": {
      "text/html": [
       "<div>\n",
       "<style scoped>\n",
       "    .dataframe tbody tr th:only-of-type {\n",
       "        vertical-align: middle;\n",
       "    }\n",
       "\n",
       "    .dataframe tbody tr th {\n",
       "        vertical-align: top;\n",
       "    }\n",
       "\n",
       "    .dataframe thead th {\n",
       "        text-align: right;\n",
       "    }\n",
       "</style>\n",
       "<table border=\"1\" class=\"dataframe\">\n",
       "  <thead>\n",
       "    <tr style=\"text-align: right;\">\n",
       "      <th></th>\n",
       "      <th>id</th>\n",
       "      <th>breed</th>\n",
       "      <th>breed_index</th>\n",
       "    </tr>\n",
       "  </thead>\n",
       "  <tbody>\n",
       "    <tr>\n",
       "      <th>0</th>\n",
       "      <td>000bec180eb18c7604dcecc8fe0dba07</td>\n",
       "      <td>boston_bull</td>\n",
       "      <td>19</td>\n",
       "    </tr>\n",
       "    <tr>\n",
       "      <th>1</th>\n",
       "      <td>001513dfcb2ffafc82cccf4d8bbaba97</td>\n",
       "      <td>dingo</td>\n",
       "      <td>37</td>\n",
       "    </tr>\n",
       "    <tr>\n",
       "      <th>2</th>\n",
       "      <td>001cdf01b096e06d78e9e5112d419397</td>\n",
       "      <td>pekinese</td>\n",
       "      <td>85</td>\n",
       "    </tr>\n",
       "    <tr>\n",
       "      <th>3</th>\n",
       "      <td>00214f311d5d2247d5dfe4fe24b2303d</td>\n",
       "      <td>bluetick</td>\n",
       "      <td>15</td>\n",
       "    </tr>\n",
       "    <tr>\n",
       "      <th>4</th>\n",
       "      <td>0021f9ceb3235effd7fcde7f7538ed62</td>\n",
       "      <td>golden_retriever</td>\n",
       "      <td>49</td>\n",
       "    </tr>\n",
       "    <tr>\n",
       "      <th>5</th>\n",
       "      <td>002211c81b498ef88e1b40b9abf84e1d</td>\n",
       "      <td>bedlington_terrier</td>\n",
       "      <td>10</td>\n",
       "    </tr>\n",
       "    <tr>\n",
       "      <th>6</th>\n",
       "      <td>00290d3e1fdd27226ba27a8ce248ce85</td>\n",
       "      <td>bedlington_terrier</td>\n",
       "      <td>10</td>\n",
       "    </tr>\n",
       "    <tr>\n",
       "      <th>7</th>\n",
       "      <td>002a283a315af96eaea0e28e7163b21b</td>\n",
       "      <td>borzoi</td>\n",
       "      <td>18</td>\n",
       "    </tr>\n",
       "    <tr>\n",
       "      <th>8</th>\n",
       "      <td>003df8b8a8b05244b1d920bb6cf451f9</td>\n",
       "      <td>basenji</td>\n",
       "      <td>7</td>\n",
       "    </tr>\n",
       "    <tr>\n",
       "      <th>9</th>\n",
       "      <td>0042188c895a2f14ef64a918ed9c7b64</td>\n",
       "      <td>scottish_deerhound</td>\n",
       "      <td>97</td>\n",
       "    </tr>\n",
       "  </tbody>\n",
       "</table>\n",
       "</div>"
      ],
      "text/plain": [
       "                                 id               breed  breed_index\n",
       "0  000bec180eb18c7604dcecc8fe0dba07         boston_bull           19\n",
       "1  001513dfcb2ffafc82cccf4d8bbaba97               dingo           37\n",
       "2  001cdf01b096e06d78e9e5112d419397            pekinese           85\n",
       "3  00214f311d5d2247d5dfe4fe24b2303d            bluetick           15\n",
       "4  0021f9ceb3235effd7fcde7f7538ed62    golden_retriever           49\n",
       "5  002211c81b498ef88e1b40b9abf84e1d  bedlington_terrier           10\n",
       "6  00290d3e1fdd27226ba27a8ce248ce85  bedlington_terrier           10\n",
       "7  002a283a315af96eaea0e28e7163b21b              borzoi           18\n",
       "8  003df8b8a8b05244b1d920bb6cf451f9             basenji            7\n",
       "9  0042188c895a2f14ef64a918ed9c7b64  scottish_deerhound           97"
      ]
     },
     "execution_count": 51,
     "metadata": {},
     "output_type": "execute_result"
    }
   ],
   "source": [
    "labels_csv_df.head(10)"
   ]
  },
  {
   "cell_type": "markdown",
   "id": "140e479c-6238-45bd-8cc4-00a06b4226c3",
   "metadata": {},
   "source": [
    "#### Load Image labels"
   ]
  },
  {
   "cell_type": "code",
   "execution_count": 71,
   "id": "412a8da5-67a7-45e6-9038-7ecbac0fef80",
   "metadata": {},
   "outputs": [],
   "source": [
    "IMAGE_FOLDER = \"dog-breed-data/train\"\n",
    "IMAGE_SIZE = (224,224)\n",
    "def load_image(image_id,label):\n",
    "    image_path = tf.strings.join([IMAGE_FOLDER, \"/\", image_id, \".jpg\"])\n",
    "    image = tf.io.read_file(image_path)\n",
    "    image = tf.image.decode_jpeg(image, channels=3)\n",
    "    image = tf.image.resize(image, IMAGE_SIZE)\n",
    "    image = image/255.0\n",
    "    return image, label\n",
    "\n",
    "# load_image(\"0021f9ceb3235effd7fcde7f7538ed62\",49)"
   ]
  },
  {
   "cell_type": "code",
   "execution_count": 72,
   "id": "ade0c6da-10fe-4e61-b68c-e5c3694c0a0e",
   "metadata": {},
   "outputs": [],
   "source": [
    "image_ids = labels_csv_df[\"id\"].values\n",
    "labels = labels_csv_df[\"breed_index\"].values"
   ]
  },
  {
   "cell_type": "markdown",
   "id": "9059ac69-d3a5-4603-ab4e-aad60fe6c825",
   "metadata": {},
   "source": [
    "#### Create TF dataset"
   ]
  },
  {
   "cell_type": "code",
   "execution_count": 73,
   "id": "518430e3-37dd-4121-ba73-b517854de04d",
   "metadata": {},
   "outputs": [],
   "source": [
    "dataset = tf.data.Dataset.from_tensor_slices((image_ids, labels)) # Still raw data"
   ]
  },
  {
   "cell_type": "code",
   "execution_count": 74,
   "id": "b22eb4de-408f-45da-b464-e3dfd4f97434",
   "metadata": {},
   "outputs": [],
   "source": [
    "dataset = dataset.map(load_image, num_parallel_calls=tf.data.AUTOTUNE) # Actual data loading"
   ]
  },
  {
   "cell_type": "code",
   "execution_count": 76,
   "id": "62419651-cd89-40df-9568-ef48e22e1443",
   "metadata": {},
   "outputs": [],
   "source": [
    "BATCH_SIZE = 32\n",
    "dataset = dataset.shuffle(buffer_size=1000)\n",
    "dataset = dataset.batch(BATCH_SIZE).prefetch(tf.data.AUTOTUNE)"
   ]
  },
  {
   "cell_type": "markdown",
   "id": "fa23e282-f665-4a77-aec9-db63070f7942",
   "metadata": {},
   "source": [
    "#### Build model"
   ]
  },
  {
   "cell_type": "code",
   "execution_count": 85,
   "id": "6f684a88-c480-4ccd-b36f-dad9ae457568",
   "metadata": {},
   "outputs": [],
   "source": [
    "MODEL_URL = \"https://tfhub.dev/google/imagenet/mobilenet_v2_100_224/classification/4\"\n",
    "\n",
    "feature_extractor_layer = hub.KerasLayer(\n",
    "    MODEL_URL,\n",
    "    input_shape=(224, 224, 3),\n",
    "    trainable=False  # freeze weights\n",
    ")"
   ]
  },
  {
   "cell_type": "code",
   "execution_count": 95,
   "id": "388e282a-d85b-4ba9-b8d2-5f5e4a03865a",
   "metadata": {},
   "outputs": [],
   "source": [
    "num_classes = labels_csv_df[\"breed\"].nunique()\n",
    "\n",
    "model = tf_keras.Sequential([\n",
    "    feature_extractor_layer,\n",
    "    tf_keras.layers.Dense(units=num_classes, activation='softmax')  # your dog breed classes\n",
    "])"
   ]
  },
  {
   "cell_type": "code",
   "execution_count": 96,
   "id": "64bd501e-9966-431c-abd7-96faa8caf599",
   "metadata": {},
   "outputs": [],
   "source": [
    "model.compile(\n",
    "    optimizer='adam',\n",
    "    loss='sparse_categorical_crossentropy',\n",
    "    metrics=['accuracy']\n",
    ")"
   ]
  },
  {
   "cell_type": "markdown",
   "id": "0692766f-3b65-4de3-97c3-c04a23bac5b2",
   "metadata": {},
   "source": [
    "#### Train model"
   ]
  },
  {
   "cell_type": "code",
   "execution_count": 97,
   "id": "036794f4-2ee9-4f01-bc8d-b57c8e9dcab5",
   "metadata": {},
   "outputs": [
    {
     "name": "stdout",
     "output_type": "stream",
     "text": [
      "Epoch 1/10\n"
     ]
    },
    {
     "name": "stderr",
     "output_type": "stream",
     "text": [
      "2025-04-20 12:59:53.721394: I tensorflow/core/grappler/optimizers/custom_graph_optimizer_registry.cc:117] Plugin optimizer for device_type GPU is enabled.\n"
     ]
    },
    {
     "name": "stdout",
     "output_type": "stream",
     "text": [
      "320/320 [==============================] - 22s 51ms/step - loss: 1.3115 - accuracy: 0.6730\n",
      "Epoch 2/10\n",
      "320/320 [==============================] - 16s 49ms/step - loss: 0.3834 - accuracy: 0.8853\n",
      "Epoch 3/10\n",
      "320/320 [==============================] - 16s 49ms/step - loss: 0.2203 - accuracy: 0.9402\n",
      "Epoch 4/10\n",
      "320/320 [==============================] - 16s 49ms/step - loss: 0.1417 - accuracy: 0.9680\n",
      "Epoch 5/10\n",
      "320/320 [==============================] - 16s 49ms/step - loss: 0.0972 - accuracy: 0.9819\n",
      "Epoch 6/10\n",
      "320/320 [==============================] - 16s 49ms/step - loss: 0.0690 - accuracy: 0.9904\n",
      "Epoch 7/10\n",
      "320/320 [==============================] - 16s 49ms/step - loss: 0.0542 - accuracy: 0.9928\n",
      "Epoch 8/10\n",
      "320/320 [==============================] - 16s 49ms/step - loss: 0.0419 - accuracy: 0.9956\n",
      "Epoch 9/10\n",
      "320/320 [==============================] - 16s 49ms/step - loss: 0.0341 - accuracy: 0.9973\n",
      "Epoch 10/10\n",
      "320/320 [==============================] - 16s 49ms/step - loss: 0.0279 - accuracy: 0.9978\n"
     ]
    }
   ],
   "source": [
    "history = model.fit(dataset, epochs=10)  # Adjust epochs as needed"
   ]
  },
  {
   "cell_type": "code",
   "execution_count": 98,
   "id": "48c741e9-270b-48e4-a008-223eb7685e66",
   "metadata": {},
   "outputs": [
    {
     "name": "stdout",
     "output_type": "stream",
     "text": [
      "320/320 [==============================] - 16s 49ms/step - loss: 0.0218 - accuracy: 0.9978\n",
      "Test accuracy: 0.9978477954864502\n"
     ]
    }
   ],
   "source": [
    "test_loss, test_acc = model.evaluate(dataset)\n",
    "print(f\"Test accuracy: {test_acc}\")"
   ]
  },
  {
   "cell_type": "code",
   "execution_count": 100,
   "id": "63f1164c-123a-4401-a234-882f46c1d4b7",
   "metadata": {},
   "outputs": [],
   "source": [
    "model.save('models/dog_breed_model_updated.h5')"
   ]
  },
  {
   "cell_type": "markdown",
   "id": "2d7b42fc-acac-4efe-bf49-8a893a4bb2f0",
   "metadata": {},
   "source": [
    "#### Predict on sample image"
   ]
  },
  {
   "cell_type": "code",
   "execution_count": 109,
   "id": "be783045-ddc6-4687-b5bd-8f39e03dc81e",
   "metadata": {},
   "outputs": [],
   "source": [
    "loaded_model = tf_keras.models.load_model(\"models/dog_breed_model_updated.h5\",custom_objects={\"KerasLayer\": hub.KerasLayer})\n",
    "\n",
    "from PIL import Image\n",
    "# --- Set constants ---\n",
    "IMAGE_SIZE = (224, 224)  # Input size used during training\n",
    "CLASS_NAMES = unique_breeds  # The list of breed names (same order as label encoding)\n",
    "\n",
    "def predict_dog_breed(image_path):\n",
    "    # Extract the image ID from filename\n",
    "    image_id = os.path.splitext(os.path.basename(image_path))[0]\n",
    "\n",
    "    # Get true label from CSV\n",
    "    true_label_row = labels_csv_df[labels_csv_df[\"id\"] == image_id]\n",
    "    if not true_label_row.empty:\n",
    "        true_label = true_label_row[\"breed\"].values[0]\n",
    "    else:\n",
    "        true_label = \"Unknown\"\n",
    "\n",
    "    # Load and preprocess image\n",
    "    img = Image.open(image_path).convert(\"RGB\")\n",
    "    img = img.resize(IMAGE_SIZE)\n",
    "    img_array = np.array(img) / 255.0\n",
    "    img_array = np.expand_dims(img_array, axis=0)\n",
    "\n",
    "    # Predict\n",
    "    predictions = model.predict(img_array)\n",
    "    predicted_index = np.argmax(predictions, axis=1)[0]\n",
    "    predicted_breed = CLASS_NAMES[predicted_index]\n",
    "    confidence = predictions[0][predicted_index] * 100  # convert to %\n",
    "\n",
    "    # Print results\n",
    "    print(f\"✅ True Label      : {true_label}\")\n",
    "    print(f\"🔮 Predicted Label : {predicted_breed}\")\n",
    "    print(f\"📊 Confidence      : {confidence:.2f}%\")"
   ]
  },
  {
   "cell_type": "code",
   "execution_count": 114,
   "id": "4eee44ae-1ff1-40e6-b41e-0df9692e163c",
   "metadata": {},
   "outputs": [
    {
     "name": "stdout",
     "output_type": "stream",
     "text": [
      "1/1 [==============================] - 0s 19ms/step\n",
      "✅ True Label      : Unknown\n",
      "🔮 Predicted Label : great_dane\n",
      "📊 Confidence      : 99.14%\n",
      "Predicted Breed: None\n"
     ]
    }
   ],
   "source": [
    "image_path = \"dog-breed-data/test/0a50874d29b277cc889c0aa1cc8cd03c.jpg\"\n",
    "print(\"Predicted Breed:\", predict_dog_breed(image_path))"
   ]
  },
  {
   "cell_type": "code",
   "execution_count": null,
   "id": "56169f67-21f3-4db8-a2ec-53916c023570",
   "metadata": {},
   "outputs": [],
   "source": []
  }
 ],
 "metadata": {
  "kernelspec": {
   "display_name": "Python 3 (ipykernel)",
   "language": "python",
   "name": "python3"
  },
  "language_info": {
   "codemirror_mode": {
    "name": "ipython",
    "version": 3
   },
   "file_extension": ".py",
   "mimetype": "text/x-python",
   "name": "python",
   "nbconvert_exporter": "python",
   "pygments_lexer": "ipython3",
   "version": "3.9.21"
  }
 },
 "nbformat": 4,
 "nbformat_minor": 5
}
