{
 "cells": [
  {
   "cell_type": "code",
   "execution_count": 1,
   "id": "9c19e01f-e285-4484-be44-3f229b6917d3",
   "metadata": {},
   "outputs": [],
   "source": [
    "import os\n",
    "import pandas as pd\n",
    "import numpy as np\n",
    "import matplotlib.pyplot as plt\n",
    "import tensorflow as tf\n",
    "import tensorflow_hub as hub\n",
    "import tf_keras\n",
    "from sklearn.model_selection import train_test_split\n",
    "from typing import List, Union"
   ]
  },
  {
   "cell_type": "code",
   "execution_count": 18,
   "id": "308de766-be93-4674-bde9-bbde46ea75aa",
   "metadata": {},
   "outputs": [
    {
     "name": "stdout",
     "output_type": "stream",
     "text": [
      "Tensorflow Verions: 2.16.2\n",
      "Hub version : 0.16.1,\n",
      "GPU : [PhysicalDevice(name='/physical_device:GPU:0', device_type='GPU')]\n"
     ]
    }
   ],
   "source": [
    "print(\"Tensorflow Verions: {}\\nHub version : {},\\nGPU : {}\".format(tf.__version__,hub.__version__,tf.config.list_physical_devices('GPU')))"
   ]
  },
  {
   "cell_type": "markdown",
   "id": "46d8f8bd-de4b-4ec2-a6e1-c80e48dde3b9",
   "metadata": {},
   "source": [
    "#### Load data"
   ]
  },
  {
   "cell_type": "code",
   "execution_count": 2,
   "id": "772243a9-daeb-4ed3-ad16-6ade12965a99",
   "metadata": {},
   "outputs": [],
   "source": [
    "def load_dataset_and_map_breed_idx(file_name: str) -> Union[pd.DataFrame, List]:\n",
    "\n",
    "    dataset_df = pd.read_csv(file_name)\n",
    "    unique_breeds = sorted(dataset_df[\"breed\"].unique().tolist())\n",
    "    map_breed_idx = {breed: idx for idx, breed in enumerate(unique_breeds)}\n",
    "    dataset_df[\"breed_idx\"] = dataset_df[\"breed\"].map(map_breed_idx)\n",
    "\n",
    "    return dataset_df, unique_breeds"
   ]
  },
  {
   "cell_type": "code",
   "execution_count": 3,
   "id": "e31504d1-971d-421a-8532-1a775bb381a2",
   "metadata": {},
   "outputs": [],
   "source": [
    "dataset_df, unique_breeds = load_dataset_and_map_breed_idx(\"dog-breed-data/labels.csv\")"
   ]
  },
  {
   "cell_type": "code",
   "execution_count": 4,
   "id": "bd373adb-a243-4f90-a074-a13ed5dda604",
   "metadata": {},
   "outputs": [],
   "source": [
    "train_df, val_tf = train_test_split(dataset_df, test_size=0.2, stratify=dataset_df[\"breed_idx\"], random_state=42)"
   ]
  },
  {
   "cell_type": "markdown",
   "id": "7208a42f-bc03-4b4d-9134-d404295c2712",
   "metadata": {},
   "source": [
    "#### Create tensordata"
   ]
  },
  {
   "cell_type": "code",
   "execution_count": 5,
   "id": "9fa1a5fd-30bb-4ff8-9d93-b6992fc86a66",
   "metadata": {},
   "outputs": [],
   "source": [
    "def create_tensor_slices(dataset: pd.DataFrame) -> tf.data.Dataset:\n",
    "    image_path_hash = dataset[\"id\"].values\n",
    "    breed_idx = dataset[\"breed_idx\"].values\n",
    "\n",
    "    return tf.data.Dataset.from_tensor_slices((image_path_hash, breed_idx))"
   ]
  },
  {
   "cell_type": "code",
   "execution_count": 6,
   "id": "ed450f36-4218-428c-bae0-20032d09ec05",
   "metadata": {},
   "outputs": [],
   "source": [
    "os.environ['TF_CPP_MIN_LOG_LEVEL'] = '2'\n",
    "\n",
    "train_tensor_data = create_tensor_slices(train_df)  # Raw data is filled\n",
    "val_tensor_data = create_tensor_slices(val_tf)"
   ]
  },
  {
   "cell_type": "markdown",
   "id": "cbd9e71f-027c-4f62-afa0-6e2ed502b47d",
   "metadata": {},
   "source": [
    "#### Fill tensordata with images"
   ]
  },
  {
   "cell_type": "code",
   "execution_count": 7,
   "id": "23388d51-83bf-47e4-b8dc-30206688e335",
   "metadata": {},
   "outputs": [],
   "source": [
    "IMAGE_FOLDER = \"dog-breed-data/train\"\n",
    "IMAGE_SIZE = (224, 224)\n",
    "\n",
    "def load_image_in_tensor(image_id:str, label:str):\n",
    "    image_path = tf.strings.join([IMAGE_FOLDER, \"/\", image_id, \".jpg\"])\n",
    "    image = tf.io.read_file(image_path)\n",
    "    image = tf.image.decode_jpeg(image, channels=3)\n",
    "    image = tf.image.resize(image, IMAGE_SIZE)\n",
    "    image = image / 255.0\n",
    "\n",
    "    return image, label"
   ]
  },
  {
   "cell_type": "code",
   "execution_count": 8,
   "id": "18d261ca-1a13-406d-82bb-edd7e91d7e6f",
   "metadata": {},
   "outputs": [],
   "source": [
    "train_tensor_data = train_tensor_data.map(load_image_in_tensor, num_parallel_calls=tf.data.AUTOTUNE)  # Actual images are loaded\n",
    "val_tensor_data = val_tensor_data.map(load_image_in_tensor, num_parallel_calls=tf.data.AUTOTUNE)"
   ]
  },
  {
   "cell_type": "markdown",
   "id": "9c5c6d2b-b242-48db-9eaa-a5ef361d00c7",
   "metadata": {},
   "source": [
    "#### Shuffle and batch the data"
   ]
  },
  {
   "cell_type": "code",
   "execution_count": 9,
   "id": "619c19a3-7053-4632-a926-cefb1b8940a9",
   "metadata": {},
   "outputs": [],
   "source": [
    "BATCH_SIZE = 32\n",
    "\n",
    "train_tensor_data = train_tensor_data.shuffle(buffer_size=1000)\n",
    "val_tensor_data = val_tensor_data.shuffle(buffer_size=1000)\n",
    "train_tensor_data = train_tensor_data.batch(BATCH_SIZE).prefetch(tf.data.AUTOTUNE)\n",
    "val_tensor_data = val_tensor_data.batch(BATCH_SIZE).prefetch(tf.data.AUTOTUNE)"
   ]
  },
  {
   "cell_type": "markdown",
   "id": "71e57590-378b-4744-8245-a3c6015e0f4f",
   "metadata": {},
   "source": [
    "#### Create model"
   ]
  },
  {
   "cell_type": "code",
   "execution_count": 10,
   "id": "b8c47ef7-82b1-469f-bda9-0706cdff105b",
   "metadata": {},
   "outputs": [],
   "source": [
    "MODEL_URL = \"https://tfhub.dev/google/imagenet/mobilenet_v2_100_224/classification/4\"\n",
    "\n",
    "def create_model(MODEL_URL: str, units: int):\n",
    "    feature_extractor_layer = hub.KerasLayer(MODEL_URL, input_shape=(224, 224, 3), trainable=False)  # freeze weights\n",
    "    model = tf_keras.Sequential([feature_extractor_layer, tf_keras.layers.Dense(units=units, activation=\"softmax\")])\n",
    "    model.compile(optimizer=\"adam\", loss=\"sparse_categorical_crossentropy\", metrics=[\"accuracy\"])\n",
    "\n",
    "    return model"
   ]
  },
  {
   "cell_type": "code",
   "execution_count": 11,
   "id": "44b75aed-7fdf-4670-9756-9f8b35aa3c09",
   "metadata": {},
   "outputs": [],
   "source": [
    "model = create_model(MODEL_URL=MODEL_URL, units=len(unique_breeds))"
   ]
  },
  {
   "cell_type": "markdown",
   "id": "29d4dc4c-bb68-462c-907f-8b5204f20bf2",
   "metadata": {},
   "source": [
    "#### Load the model with train and validation data"
   ]
  },
  {
   "cell_type": "code",
   "execution_count": 12,
   "id": "169cb009-88dd-4f01-8462-8b3413c7313d",
   "metadata": {},
   "outputs": [
    {
     "name": "stdout",
     "output_type": "stream",
     "text": [
      "Epoch 1/10\n",
      "256/256 [==============================] - 22s 64ms/step - loss: 1.4383 - accuracy: 0.6502 - val_loss: 0.7289 - val_accuracy: 0.7770\n",
      "Epoch 2/10\n",
      "256/256 [==============================] - 16s 61ms/step - loss: 0.3890 - accuracy: 0.8852 - val_loss: 0.6769 - val_accuracy: 0.7927\n",
      "Epoch 3/10\n",
      "256/256 [==============================] - 16s 61ms/step - loss: 0.2100 - accuracy: 0.9477 - val_loss: 0.6689 - val_accuracy: 0.7961\n",
      "Epoch 4/10\n",
      "256/256 [==============================] - 16s 61ms/step - loss: 0.1288 - accuracy: 0.9755 - val_loss: 0.6656 - val_accuracy: 0.7902\n",
      "Epoch 5/10\n",
      "256/256 [==============================] - 16s 61ms/step - loss: 0.0873 - accuracy: 0.9875 - val_loss: 0.6875 - val_accuracy: 0.7907\n",
      "Epoch 6/10\n",
      "256/256 [==============================] - 16s 62ms/step - loss: 0.0610 - accuracy: 0.9950 - val_loss: 0.6964 - val_accuracy: 0.7878\n",
      "Epoch 7/10\n",
      "256/256 [==============================] - 16s 62ms/step - loss: 0.0462 - accuracy: 0.9961 - val_loss: 0.7075 - val_accuracy: 0.7941\n",
      "Epoch 8/10\n",
      "256/256 [==============================] - 16s 62ms/step - loss: 0.0361 - accuracy: 0.9980 - val_loss: 0.7236 - val_accuracy: 0.7902\n",
      "Epoch 9/10\n",
      "256/256 [==============================] - 16s 61ms/step - loss: 0.0304 - accuracy: 0.9980 - val_loss: 0.7347 - val_accuracy: 0.7941\n",
      "Epoch 10/10\n",
      "256/256 [==============================] - 16s 62ms/step - loss: 0.0251 - accuracy: 0.9988 - val_loss: 0.7506 - val_accuracy: 0.7941\n"
     ]
    }
   ],
   "source": [
    "trained_model = model.fit(train_tensor_data, validation_data=val_tensor_data, epochs=10)"
   ]
  },
  {
   "cell_type": "code",
   "execution_count": 13,
   "id": "61f6d4cb-282f-4b84-9b55-bc709097b21b",
   "metadata": {},
   "outputs": [],
   "source": [
    "def plot_acurracy(stats):\n",
    "    epochs = range(1, len(stats['loss']) + 1)\n",
    "\n",
    "    \n",
    "    plt.figure(figsize=(12, 5))\n",
    "\n",
    "    plt.subplot(1, 2, 1)\n",
    "    plt.plot(epochs, stats[\"accuracy\"], label = \"Train accuracy\")\n",
    "    plt.plot(epochs, stats[\"val_accuracy\"], label = \"Val accuracy\")\n",
    "    plt.legend(loc='upper right')\n",
    "    plt.title('Accuracy')\n",
    "\n",
    "    plt.subplot(1, 2, 2)\n",
    "    plt.plot(epochs, stats[\"loss\"], label = \"Train Loss\")\n",
    "    plt.plot(epochs, stats[\"val_loss\"], label = \"Val Loss\")\n",
    "    plt.legend(loc='upper right')\n",
    "    plt.title('Loss')\n",
    "    \n",
    "    plt.show()    \n",
    "    "
   ]
  },
  {
   "cell_type": "code",
   "execution_count": 14,
   "id": "93846905-daa4-46a6-8205-46aa71e41279",
   "metadata": {},
   "outputs": [
    {
     "data": {
      "image/png": "[encoded data removed]",
      "text/plain": [
       "<Figure size 1200x500 with 2 Axes>"
      ]
     },
     "metadata": {},
     "output_type": "display_data"
    }
   ],
   "source": [
    "plot_acurracy(trained_model.history)"
   ]
  },
  {
   "cell_type": "markdown",
   "id": "8824b36c-1ce1-4154-a0f5-e9832f089ad8",
   "metadata": {},
   "source": [
    "#### Save the model"
   ]
  },
  {
   "cell_type": "code",
   "execution_count": 19,
   "id": "a242bc2a-5955-4a22-8ae1-75bf9fc69d18",
   "metadata": {},
   "outputs": [],
   "source": [
    "model.save('models/dog_breed_identification.keras')"
   ]
  },
  {
   "cell_type": "code",
   "execution_count": 22,
   "id": "f58e3dd0-52ae-4733-8e52-846592470418",
   "metadata": {},
   "outputs": [],
   "source": [
    "loaded_model = tf_keras.models.load_model(\"models/dog_breed_identification.keras\",custom_objects={\"KerasLayer\": hub.KerasLayer})"
   ]
  },
  {
   "cell_type": "code",
   "execution_count": 98,
   "id": "c7c74ac4-76eb-488e-809e-029ed1e6ebc7",
   "metadata": {},
   "outputs": [],
   "source": [
    "def preprocess_prediction_image(image_path):\n",
    "    image = tf.io.read_file(image_path)\n",
    "    image = tf.image.decode_jpeg(image, channels=3)\n",
    "    image = tf.image.resize(image, IMAGE_SIZE)\n",
    "    image = image / 255.0\n",
    "    image = tf.expand_dims(image, axis=0) \n",
    "    return image\n",
    "\n",
    "\n",
    "def predict_dog_breed(image_path):\n",
    "    processed_image = preprocess_prediction_image(image_path)\n",
    "    predictions = loaded_model.predict(processed_image)\n",
    "    predictions = predictions[0]\n",
    "    \n",
    "    predictions_idx = np.argsort(predictions)\n",
    "    \n",
    "    top_5_idx = predictions_idx[-5:][::-1] # Select last 5 predicts and sort by desc\n",
    "    top_5_breeds = [ unique_breeds[i] for i in top_5_idx ]\n",
    "\n",
    "    top_5_scores = predictions[top_5_idx]\n",
    "    top_5_scores = [f\"{i * 100:.2f}%\"  for i in top_5_scores ]\n",
    "\n",
    "\n",
    "    final_predictions = pd.DataFrame({\"breed\":top_5_breeds,\"score\":top_5_scores})\n",
    "    \n",
    "    \n",
    "    return final_predictions\n",
    "    "
   ]
  },
  {
   "cell_type": "code",
   "execution_count": 101,
   "id": "7faba648-c0a5-496f-a2be-10a78eff1794",
   "metadata": {},
   "outputs": [
    {
     "name": "stdout",
     "output_type": "stream",
     "text": [
      "1/1 [==============================] - 0s 20ms/step\n"
     ]
    }
   ],
   "source": [
    "my_predictions = predict_dog_breed(\"dog-breed-data/test/8e6a11df866b85cfb0f921b7947ae77d.jpg\")"
   ]
  },
  {
   "cell_type": "code",
   "execution_count": 102,
   "id": "ddbf282d-05e7-4c47-ad2b-fb9b055ccc75",
   "metadata": {},
   "outputs": [
    {
     "data": {
      "text/html": [
       "<div>\n",
       "<style scoped>\n",
       "    .dataframe tbody tr th:only-of-type {\n",
       "        vertical-align: middle;\n",
       "    }\n",
       "\n",
       "    .dataframe tbody tr th {\n",
       "        vertical-align: top;\n",
       "    }\n",
       "\n",
       "    .dataframe thead th {\n",
       "        text-align: right;\n",
       "    }\n",
       "</style>\n",
       "<table border=\"1\" class=\"dataframe\">\n",
       "  <thead>\n",
       "    <tr style=\"text-align: right;\">\n",
       "      <th></th>\n",
       "      <th>breed</th>\n",
       "      <th>score</th>\n",
       "    </tr>\n",
       "  </thead>\n",
       "  <tbody>\n",
       "    <tr>\n",
       "      <th>0</th>\n",
       "      <td>english_foxhound</td>\n",
       "      <td>45.18%</td>\n",
       "    </tr>\n",
       "    <tr>\n",
       "      <th>1</th>\n",
       "      <td>brittany_spaniel</td>\n",
       "      <td>27.39%</td>\n",
       "    </tr>\n",
       "    <tr>\n",
       "      <th>2</th>\n",
       "      <td>walker_hound</td>\n",
       "      <td>25.71%</td>\n",
       "    </tr>\n",
       "    <tr>\n",
       "      <th>3</th>\n",
       "      <td>wire-haired_fox_terrier</td>\n",
       "      <td>1.30%</td>\n",
       "    </tr>\n",
       "    <tr>\n",
       "      <th>4</th>\n",
       "      <td>toy_terrier</td>\n",
       "      <td>0.15%</td>\n",
       "    </tr>\n",
       "  </tbody>\n",
       "</table>\n",
       "</div>"
      ],
      "text/plain": [
       "                     breed   score\n",
       "0         english_foxhound  45.18%\n",
       "1         brittany_spaniel  27.39%\n",
       "2             walker_hound  25.71%\n",
       "3  wire-haired_fox_terrier   1.30%\n",
       "4              toy_terrier   0.15%"
      ]
     },
     "execution_count": 102,
     "metadata": {},
     "output_type": "execute_result"
    }
   ],
   "source": [
    "my_predictions"
   ]
  },
  {
   "cell_type": "code",
   "execution_count": null,
   "id": "54fa3b18-d88e-4ad5-83b5-39f84fe66c25",
   "metadata": {},
   "outputs": [],
   "source": []
  }
 ],
 "metadata": {
  "kernelspec": {
   "display_name": "Python 3 (ipykernel)",
   "language": "python",
   "name": "python3"
  },
  "language_info": {
   "codemirror_mode": {
    "name": "ipython",
    "version": 3
   },
   "file_extension": ".py",
   "mimetype": "text/x-python",
   "name": "python",
   "nbconvert_exporter": "python",
   "pygments_lexer": "ipython3",
   "version": "3.9.21"
  }
 },
 "nbformat": 4,
 "nbformat_minor": 5
}
